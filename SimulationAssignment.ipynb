{
  "nbformat": 4,
  "nbformat_minor": 0,
  "metadata": {
    "colab": {
      "provenance": [],
      "authorship_tag": "ABX9TyPLGg2UMvZEPmXJgo8nr5UB",
      "include_colab_link": true
    },
    "kernelspec": {
      "name": "python3",
      "display_name": "Python 3"
    },
    "language_info": {
      "name": "python"
    }
  },
  "cells": [
    {
      "cell_type": "markdown",
      "metadata": {
        "id": "view-in-github",
        "colab_type": "text"
      },
      "source": [
        "<a href=\"https://colab.research.google.com/github/RogerMoi26/OperationsResearchFall23/blob/main/SimulationAssignment.ipynb\" target=\"_parent\"><img src=\"https://colab.research.google.com/assets/colab-badge.svg\" alt=\"Open In Colab\"/></a>"
      ]
    },
    {
      "cell_type": "markdown",
      "source": [
        "##Simulation Assignment\n",
        "On exam 1, I proposed the problem of having 10 cases of water with 10 bottles in each case and 10 oz in each bottle. One case is known to be filled with one ounce less than all the other bottles. Jacob proposed a random selection method for finding the case with the bottles that have less water. Essentially he'll pull one bottle and test it. If it is 9 ounces, he has found the case that is short. Let's explore this random test.\n",
        "\n",
        "Write a random function call that returns 10 ounces 9 out of 10 times and 9 ounces one out of ten.\n",
        "\n",
        "What is the expected weight of a random pull?\n",
        "\n",
        "Test your expected weight by running a simulation drawing at least 100 bottles and taking the average of the wieghts. Does it agree with your theoretical result?\n",
        "\n",
        "We are particuarly interested in how many pulls would be required to find the case that was short. If you test one at a time, how many pulls do you expect before you find the case that is short?\n",
        "\n",
        "Create a function that creates a sequence of pulling bottles and stops when you find the bottle with 9 ounces. Test this function a bunch of times. Do you notice anything odd when comparing it to your previous result?\n",
        "\n",
        "Propose a modification to the coding you did in the first step that would improve the results. Hint: Consider a different data structure that would be more applicable to the real world case."
      ],
      "metadata": {
        "id": "M0aIDw14g3TE"
      }
    },
    {
      "cell_type": "markdown",
      "source": [
        "##1\n",
        "Write a random function call that returns 10 ounces 9 out of 10 times and 9 ounces one out of ten."
      ],
      "metadata": {
        "id": "t90zkS2ehESi"
      }
    },
    {
      "cell_type": "code",
      "source": [
        "import random\n",
        "random.choice([9,10])\n",
        "choose = [9,10,10,10,10,10,10,10,10,10]\n",
        "def getTen(choose):\n",
        "  for i in range(10):\n",
        "    if choose[i] == 9:\n",
        "      if random.choice([9,10]) == 9:\n",
        "        choose[i]= 10\n",
        "  return choose"
      ],
      "metadata": {
        "id": "8oh8M76shHHn"
      },
      "execution_count": 177,
      "outputs": []
    },
    {
      "cell_type": "code",
      "source": [
        "getTen(choose)"
      ],
      "metadata": {
        "colab": {
          "base_uri": "https://localhost:8080/"
        },
        "id": "TlFM0rkkqlEm",
        "outputId": "67d9b903-61a7-4213-8df3-e9f788925549"
      },
      "execution_count": 176,
      "outputs": [
        {
          "output_type": "execute_result",
          "data": {
            "text/plain": [
              "[0, 1, 2, 3, 4, 5, 6, 7, 8, 10]"
            ]
          },
          "metadata": {},
          "execution_count": 176
        }
      ]
    },
    {
      "cell_type": "markdown",
      "source": [
        "code works but has a tendency to pick 10 for all of it and then it takes a while to get one of them say 9 again."
      ],
      "metadata": {
        "id": "FY1lHeb02_Wj"
      }
    },
    {
      "cell_type": "markdown",
      "source": [
        "##2\n",
        "What is the expected weight of a random pull?"
      ],
      "metadata": {
        "id": "tB5fxTVPhENW"
      }
    },
    {
      "cell_type": "code",
      "source": [
        "sum(choose)/len(choose)"
      ],
      "metadata": {
        "colab": {
          "base_uri": "https://localhost:8080/"
        },
        "id": "uBFCrYvThGwF",
        "outputId": "2933ef5a-f3f3-4cc1-d99d-506988f0302d"
      },
      "execution_count": 174,
      "outputs": [
        {
          "output_type": "execute_result",
          "data": {
            "text/plain": [
              "9.9"
            ]
          },
          "metadata": {},
          "execution_count": 174
        }
      ]
    },
    {
      "cell_type": "markdown",
      "source": [
        "##3\n",
        "Test your expected weight by running a simulation drawing at least 100 bottles and taking the average of the wieghts. Does it agree with your theoretical result?"
      ],
      "metadata": {
        "id": "52I8taqjhEHh"
      }
    },
    {
      "cell_type": "code",
      "source": [
        "O = []\n",
        "\n",
        "for i in range(100):\n",
        "  O.append(random.choice([0,1,2,3,4,5,6,7,8,9]))\n",
        "\n",
        "sum(O)/len(O)"
      ],
      "metadata": {
        "colab": {
          "base_uri": "https://localhost:8080/"
        },
        "id": "1aWFQIEpsGmu",
        "outputId": "9c7f4c90-2f04-4031-f575-e19fbfeb1ea4"
      },
      "execution_count": 168,
      "outputs": [
        {
          "output_type": "execute_result",
          "data": {
            "text/plain": [
              "4.33"
            ]
          },
          "metadata": {},
          "execution_count": 168
        }
      ]
    },
    {
      "cell_type": "markdown",
      "source": [
        "##4\n",
        "We are particuarly interested in how many pulls would be required to find the case that was short. If you test one at a time, how many pulls do you expect before you find the case that is short?"
      ],
      "metadata": {
        "id": "yzJAJ2sghD__"
      }
    },
    {
      "cell_type": "markdown",
      "source": [
        "***Well if you test one at a time there are 10 bottles per case and 10 cases in total it will take probably 90+ pulls till you find the case that is short.***"
      ],
      "metadata": {
        "id": "48MIT3ig4XIS"
      }
    },
    {
      "cell_type": "code",
      "source": [
        "import numpy\n",
        "cases = [10,10,10,10,10,10,10,10,10,10,9]\n",
        "howManyPulls = []\n",
        "for i in range(100):\n",
        "  cases = [10,10,10,10,10,10,10,10,10,10,9]\n",
        "  times = 0\n",
        "  while sum(cases)!=0:\n",
        "    cases = getTen(cases)\n",
        "    times += 1\n",
        "howManyPulls.append(times)\n",
        "numpy.mean(howManyPulls)"
      ],
      "metadata": {
        "colab": {
          "base_uri": "https://localhost:8080/",
          "height": 366
        },
        "id": "yX23uE6f8_tv",
        "outputId": "01570814-25ec-48d7-9de9-466f8d6b7abb"
      },
      "execution_count": 192,
      "outputs": [
        {
          "output_type": "error",
          "ename": "KeyboardInterrupt",
          "evalue": "ignored",
          "traceback": [
            "\u001b[0;31m---------------------------------------------------------------------------\u001b[0m",
            "\u001b[0;31mKeyboardInterrupt\u001b[0m                         Traceback (most recent call last)",
            "\u001b[0;32m<ipython-input-192-1c5075b3ae80>\u001b[0m in \u001b[0;36m<cell line: 4>\u001b[0;34m()\u001b[0m\n\u001b[1;32m      6\u001b[0m   \u001b[0mtimes\u001b[0m \u001b[0;34m=\u001b[0m \u001b[0;36m0\u001b[0m\u001b[0;34m\u001b[0m\u001b[0;34m\u001b[0m\u001b[0m\n\u001b[1;32m      7\u001b[0m   \u001b[0;32mwhile\u001b[0m \u001b[0msum\u001b[0m\u001b[0;34m(\u001b[0m\u001b[0mcases\u001b[0m\u001b[0;34m)\u001b[0m\u001b[0;34m!=\u001b[0m\u001b[0;36m0\u001b[0m\u001b[0;34m:\u001b[0m\u001b[0;34m\u001b[0m\u001b[0;34m\u001b[0m\u001b[0m\n\u001b[0;32m----> 8\u001b[0;31m     \u001b[0mcases\u001b[0m \u001b[0;34m=\u001b[0m \u001b[0mgetTen\u001b[0m\u001b[0;34m(\u001b[0m\u001b[0mcases\u001b[0m\u001b[0;34m)\u001b[0m\u001b[0;34m\u001b[0m\u001b[0;34m\u001b[0m\u001b[0m\n\u001b[0m\u001b[1;32m      9\u001b[0m     \u001b[0mtimes\u001b[0m \u001b[0;34m+=\u001b[0m \u001b[0;36m1\u001b[0m\u001b[0;34m\u001b[0m\u001b[0;34m\u001b[0m\u001b[0m\n\u001b[1;32m     10\u001b[0m \u001b[0mhowManyPulls\u001b[0m\u001b[0;34m.\u001b[0m\u001b[0mappend\u001b[0m\u001b[0;34m(\u001b[0m\u001b[0mtimes\u001b[0m\u001b[0;34m)\u001b[0m\u001b[0;34m\u001b[0m\u001b[0;34m\u001b[0m\u001b[0m\n",
            "\u001b[0;32m<ipython-input-177-89b8aec66df1>\u001b[0m in \u001b[0;36mgetTen\u001b[0;34m(choose)\u001b[0m\n\u001b[1;32m      4\u001b[0m \u001b[0;32mdef\u001b[0m \u001b[0mgetTen\u001b[0m\u001b[0;34m(\u001b[0m\u001b[0mchoose\u001b[0m\u001b[0;34m)\u001b[0m\u001b[0;34m:\u001b[0m\u001b[0;34m\u001b[0m\u001b[0;34m\u001b[0m\u001b[0m\n\u001b[1;32m      5\u001b[0m   \u001b[0;32mfor\u001b[0m \u001b[0mi\u001b[0m \u001b[0;32min\u001b[0m \u001b[0mrange\u001b[0m\u001b[0;34m(\u001b[0m\u001b[0;36m10\u001b[0m\u001b[0;34m)\u001b[0m\u001b[0;34m:\u001b[0m\u001b[0;34m\u001b[0m\u001b[0;34m\u001b[0m\u001b[0m\n\u001b[0;32m----> 6\u001b[0;31m     \u001b[0;32mif\u001b[0m \u001b[0mchoose\u001b[0m\u001b[0;34m[\u001b[0m\u001b[0mi\u001b[0m\u001b[0;34m]\u001b[0m \u001b[0;34m==\u001b[0m \u001b[0;36m9\u001b[0m\u001b[0;34m:\u001b[0m\u001b[0;34m\u001b[0m\u001b[0;34m\u001b[0m\u001b[0m\n\u001b[0m\u001b[1;32m      7\u001b[0m       \u001b[0;32mif\u001b[0m \u001b[0mrandom\u001b[0m\u001b[0;34m.\u001b[0m\u001b[0mchoice\u001b[0m\u001b[0;34m(\u001b[0m\u001b[0;34m[\u001b[0m\u001b[0;36m9\u001b[0m\u001b[0;34m,\u001b[0m\u001b[0;36m10\u001b[0m\u001b[0;34m]\u001b[0m\u001b[0;34m)\u001b[0m \u001b[0;34m==\u001b[0m \u001b[0;36m9\u001b[0m\u001b[0;34m:\u001b[0m\u001b[0;34m\u001b[0m\u001b[0;34m\u001b[0m\u001b[0m\n\u001b[1;32m      8\u001b[0m         \u001b[0mchoose\u001b[0m\u001b[0;34m[\u001b[0m\u001b[0mi\u001b[0m\u001b[0;34m]\u001b[0m\u001b[0;34m=\u001b[0m \u001b[0;36m10\u001b[0m\u001b[0;34m\u001b[0m\u001b[0;34m\u001b[0m\u001b[0m\n",
            "\u001b[0;31mKeyboardInterrupt\u001b[0m: "
          ]
        }
      ]
    },
    {
      "cell_type": "markdown",
      "source": [
        "Obvisouly I did somthing wrong her cause it wont end but i will keep on it to figure it out hopefully i have it fixed by the time i turn this in."
      ],
      "metadata": {
        "id": "lXXxyuR5_MHz"
      }
    },
    {
      "cell_type": "markdown",
      "source": [
        "##5\n",
        "Create a function that creates a sequence of pulling bottles and stops when you find the bottle with 9 ounces. Test this function a bunch of times. Do you notice anything odd when comparing it to your previous result?"
      ],
      "metadata": {
        "id": "vUG9BBoUhQGo"
      }
    },
    {
      "cell_type": "code",
      "source": [],
      "metadata": {
        "colab": {
          "base_uri": "https://localhost:8080/"
        },
        "id": "ugsZ8rNThQvh",
        "outputId": "fc134725-3f36-49bf-c502-f64626d0a74a"
      },
      "execution_count": 214,
      "outputs": [
        {
          "output_type": "stream",
          "name": "stdout",
          "text": [
            "9\n"
          ]
        }
      ]
    },
    {
      "cell_type": "markdown",
      "source": [
        "##6\n",
        "Propose a modification to the coding you did in the first step that would improve the results. Hint: Consider a different data structure that would be more applicable to the real world case."
      ],
      "metadata": {
        "id": "W4sbPut1hVW4"
      }
    },
    {
      "cell_type": "markdown",
      "source": [
        "***Maybe change it up by using a queue system I cant really think of another real world structure for this ***"
      ],
      "metadata": {
        "id": "pURp4mzv0SgF"
      }
    }
  ]
}
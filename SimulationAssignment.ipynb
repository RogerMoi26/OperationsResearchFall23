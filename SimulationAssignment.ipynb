{
  "nbformat": 4,
  "nbformat_minor": 0,
  "metadata": {
    "colab": {
      "provenance": [],
      "authorship_tag": "ABX9TyOxoH8lLILQwaNCcUdaGkwR",
      "include_colab_link": true
    },
    "kernelspec": {
      "name": "python3",
      "display_name": "Python 3"
    },
    "language_info": {
      "name": "python"
    }
  },
  "cells": [
    {
      "cell_type": "markdown",
      "metadata": {
        "id": "view-in-github",
        "colab_type": "text"
      },
      "source": [
        "<a href=\"https://colab.research.google.com/github/RogerMoi26/OperationsResearchFall23/blob/main/SimulationAssignment.ipynb\" target=\"_parent\"><img src=\"https://colab.research.google.com/assets/colab-badge.svg\" alt=\"Open In Colab\"/></a>"
      ]
    },
    {
      "cell_type": "markdown",
      "source": [
        "##Simulation Assignment\n",
        "On exam 1, I proposed the problem of having 10 cases of water with 10 bottles in each case and 10 oz in each bottle. One case is known to be filled with one ounce less than all the other bottles. Jacob proposed a random selection method for finding the case with the bottles that have less water. Essentially he'll pull one bottle and test it. If it is 9 ounces, he has found the case that is short. Let's explore this random test.\n",
        "\n",
        "Write a random function call that returns 10 ounces 9 out of 10 times and 9 ounces one out of ten.\n",
        "\n",
        "What is the expected weight of a random pull?\n",
        "\n",
        "Test your expected weight by running a simulation drawing at least 100 bottles and taking the average of the wieghts. Does it agree with your theoretical result?\n",
        "\n",
        "We are particuarly interested in how many pulls would be required to find the case that was short. If you test one at a time, how many pulls do you expect before you find the case that is short?\n",
        "\n",
        "Create a function that creates a sequence of pulling bottles and stops when you find the bottle with 9 ounces. Test this function a bunch of times. Do you notice anything odd when comparing it to your previous result?\n",
        "\n",
        "Propose a modification to the coding you did in the first step that would improve the results. Hint: Consider a different data structure that would be more applicable to the real world case."
      ],
      "metadata": {
        "id": "M0aIDw14g3TE"
      }
    },
    {
      "cell_type": "markdown",
      "source": [
        "##1\n",
        "Write a random function call that returns 10 ounces 9 out of 10 times and 9 ounces one out of ten."
      ],
      "metadata": {
        "id": "t90zkS2ehESi"
      }
    },
    {
      "cell_type": "code",
      "source": [
        "import random\n",
        "random.choice([9,10])\n",
        "choose = [9,10,10,10,10,10,10,10,10,10]\n",
        "def getTen(choose):\n",
        "  for i in range(10):\n",
        "    if choose[i] == 9:\n",
        "      if random.choice([9,10]) == 9:\n",
        "        choose[i]= 10\n",
        "  return choose"
      ],
      "metadata": {
        "id": "8oh8M76shHHn"
      },
      "execution_count": 47,
      "outputs": []
    },
    {
      "cell_type": "code",
      "source": [
        "getTen(choose)"
      ],
      "metadata": {
        "colab": {
          "base_uri": "https://localhost:8080/"
        },
        "id": "TlFM0rkkqlEm",
        "outputId": "7191ab95-88a7-46bf-ea79-6d635bc33135"
      },
      "execution_count": 48,
      "outputs": [
        {
          "output_type": "execute_result",
          "data": {
            "text/plain": [
              "[9, 10, 10, 10, 10, 10, 10, 10, 10, 10]"
            ]
          },
          "metadata": {},
          "execution_count": 48
        }
      ]
    },
    {
      "cell_type": "markdown",
      "source": [
        "code works but has a tendency to pick 10 for all of it and then it takes a while to get one of them say 9 again."
      ],
      "metadata": {
        "id": "FY1lHeb02_Wj"
      }
    },
    {
      "cell_type": "markdown",
      "source": [
        "The line of code below is me messing around with chatGPT to see what it can do since we tried it with rock paper sissors. If I had to pick mine or ChatGPT I pick the AI's as it looks way cleaner and gives the asnwer i need/want most of the time."
      ],
      "metadata": {
        "id": "dMAkBgABMEoi"
      }
    },
    {
      "cell_type": "code",
      "source": [
        "import random\n",
        "\n",
        "result_list = [random.choice([10] * 9 + [9]) for _ in range(10)]\n",
        "print(result_list)"
      ],
      "metadata": {
        "colab": {
          "base_uri": "https://localhost:8080/"
        },
        "id": "8tTOzl8rL7dU",
        "outputId": "3672fc38-c839-4ead-f6ea-54bbbfe02127"
      },
      "execution_count": 153,
      "outputs": [
        {
          "output_type": "stream",
          "name": "stdout",
          "text": [
            "[10, 10, 9, 9, 9, 10, 10, 10, 10, 10]\n"
          ]
        }
      ]
    },
    {
      "cell_type": "markdown",
      "source": [
        "##2\n",
        "What is the expected weight of a random pull?"
      ],
      "metadata": {
        "id": "tB5fxTVPhENW"
      }
    },
    {
      "cell_type": "code",
      "source": [
        "sum(choose)/len(choose)"
      ],
      "metadata": {
        "colab": {
          "base_uri": "https://localhost:8080/"
        },
        "id": "uBFCrYvThGwF",
        "outputId": "021459dc-f70d-4b44-ba66-859e96c1a85e"
      },
      "execution_count": 155,
      "outputs": [
        {
          "output_type": "execute_result",
          "data": {
            "text/plain": [
              "9.9"
            ]
          },
          "metadata": {},
          "execution_count": 155
        }
      ]
    },
    {
      "cell_type": "markdown",
      "source": [
        "##3\n",
        "Test your expected weight by running a simulation drawing at least 100 bottles and taking the average of the wieghts. Does it agree with your theoretical result?"
      ],
      "metadata": {
        "id": "52I8taqjhEHh"
      }
    },
    {
      "cell_type": "code",
      "source": [
        "O = []\n",
        "\n",
        "for i in range(100):\n",
        "  O.append(random.choice([0,1,2,3,4,5,6,7,8,9]))\n",
        "\n",
        "sum(O)/len(O)"
      ],
      "metadata": {
        "colab": {
          "base_uri": "https://localhost:8080/"
        },
        "id": "1aWFQIEpsGmu",
        "outputId": "f6d3fa8a-808c-4def-b090-40fabe49bfbe"
      },
      "execution_count": 156,
      "outputs": [
        {
          "output_type": "execute_result",
          "data": {
            "text/plain": [
              "4.46"
            ]
          },
          "metadata": {},
          "execution_count": 156
        }
      ]
    },
    {
      "cell_type": "markdown",
      "source": [
        "I got a much differnt answer from my theoretical result and so I also played with ChatGPT to see what it would say as well this is what it gave compared to mine."
      ],
      "metadata": {
        "id": "90DBIFR0M3p_"
      }
    },
    {
      "cell_type": "code",
      "source": [
        "import random\n",
        "\n",
        "def simulate_pulls(num_pulls):\n",
        "    weights = [random.choice([10] * 9 + [9]) for _ in range(num_pulls)]\n",
        "    average_weight = sum(weights) / len(weights)\n",
        "    return average_weight\n",
        "\n",
        "# Run simulation with at least 100 pulls\n",
        "num_pulls_simulation = 1000\n",
        "average_weight_simulation = simulate_pulls(num_pulls_simulation)\n",
        "\n",
        "print(f\"Theoretical expected weight: 9.9 ounces\")\n",
        "print(f\"Simulated average weight over {num_pulls_simulation} pulls: {average_weight_simulation} ounces\")"
      ],
      "metadata": {
        "colab": {
          "base_uri": "https://localhost:8080/"
        },
        "id": "7VpHJ2ZTND_3",
        "outputId": "59383a86-64a2-4e4c-d76c-0d796635140e"
      },
      "execution_count": 154,
      "outputs": [
        {
          "output_type": "stream",
          "name": "stdout",
          "text": [
            "Theoretical expected weight: 9.9 ounces\n",
            "Simulated average weight over 1000 pulls: 9.883 ounces\n"
          ]
        }
      ]
    },
    {
      "cell_type": "markdown",
      "source": [
        "much different and alot similar to my theoretical result."
      ],
      "metadata": {
        "id": "Y9AAQ6ngSrk3"
      }
    },
    {
      "cell_type": "markdown",
      "source": [
        "##4\n",
        "We are particuarly interested in how many pulls would be required to find the case that was short. If you test one at a time, how many pulls do you expect before you find the case that is short?"
      ],
      "metadata": {
        "id": "yzJAJ2sghD__"
      }
    },
    {
      "cell_type": "markdown",
      "source": [
        "***Well if you test one at a time there are 10 bottles per case and 10 cases in total it will take probably 90+ pulls till you find the case that is short. I tried writing this in code however I kept getting errors so I just removed it***"
      ],
      "metadata": {
        "id": "48MIT3ig4XIS"
      }
    },
    {
      "cell_type": "markdown",
      "source": [
        "##5\n",
        "Create a function that creates a sequence of pulling bottles and stops when you find the bottle with 9 ounces. Test this function a bunch of times. Do you notice anything odd when comparing it to your previous result?"
      ],
      "metadata": {
        "id": "vUG9BBoUhQGo"
      }
    },
    {
      "cell_type": "code",
      "source": [
        "import random\n",
        "\n",
        "def pullingBottles():\n",
        "  cases = [9,10,10,10,10,10,10,10,10,10]\n",
        "  pulls = 0\n",
        "  while True:\n",
        "    pulls += 1\n",
        "    bottles = random.randint(0, len(cases)-1)\n",
        "    oz = cases[bottles]\n",
        "    if oz == 9:\n",
        "      print(\"found the short case after\",pulls,\"pulls\")\n",
        "      break\n",
        "pullingBottles()\n",
        "pullingBottles()\n",
        "pullingBottles()\n",
        "pullingBottles()\n",
        "pullingBottles()\n",
        "pullingBottles()\n",
        "pullingBottles()\n",
        "pullingBottles()\n",
        "pullingBottles()\n",
        "pullingBottles()"
      ],
      "metadata": {
        "colab": {
          "base_uri": "https://localhost:8080/"
        },
        "id": "515oVwy6GnHk",
        "outputId": "41186fd4-7761-48fa-8bf4-54f3f7a83c4b"
      },
      "execution_count": 186,
      "outputs": [
        {
          "output_type": "stream",
          "name": "stdout",
          "text": [
            "found the short case after 5 pulls\n",
            "found the short case after 30 pulls\n",
            "found the short case after 4 pulls\n",
            "found the short case after 21 pulls\n",
            "found the short case after 16 pulls\n",
            "found the short case after 3 pulls\n",
            "found the short case after 15 pulls\n",
            "found the short case after 7 pulls\n",
            "found the short case after 3 pulls\n",
            "found the short case after 19 pulls\n"
          ]
        }
      ]
    },
    {
      "cell_type": "markdown",
      "source": [
        "I mean about the only thing odd it it goes from a really low number to a high number other than that not much else."
      ],
      "metadata": {
        "id": "AbubdqdCVbDM"
      }
    },
    {
      "cell_type": "markdown",
      "source": [
        "##6\n",
        "Propose a modification to the coding you did in the first step that would improve the results. Hint: Consider a different data structure that would be more applicable to the real world case."
      ],
      "metadata": {
        "id": "W4sbPut1hVW4"
      }
    },
    {
      "cell_type": "markdown",
      "source": [
        "***Maybe change it up by using a queue system I cant really think of another real world structure for this ***"
      ],
      "metadata": {
        "id": "pURp4mzv0SgF"
      }
    },
    {
      "cell_type": "markdown",
      "source": [
        "##Conclusion\n",
        "This one was annoying but do able I hope it was okay of me to compare my code to that of chat GPT since we did that in class anyway. I do think its a usefull tool if one gets stuck and cant figure out what wrong it definatly dose not give the most optimized"
      ],
      "metadata": {
        "id": "STBqMEu_RT9w"
      }
    }
  ]
}
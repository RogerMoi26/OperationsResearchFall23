{
  "nbformat": 4,
  "nbformat_minor": 0,
  "metadata": {
    "colab": {
      "provenance": [],
      "include_colab_link": true
    },
    "kernelspec": {
      "name": "python3",
      "display_name": "Python 3"
    },
    "language_info": {
      "name": "python"
    }
  },
  "cells": [
    {
      "cell_type": "markdown",
      "metadata": {
        "id": "view-in-github",
        "colab_type": "text"
      },
      "source": [
        "<a href=\"https://colab.research.google.com/github/RogerMoi26/OperationsResearchFall23/blob/main/LPAssignment.ipynb\" target=\"_parent\"><img src=\"https://colab.research.google.com/assets/colab-badge.svg\" alt=\"Open In Colab\"/></a>"
      ]
    },
    {
      "cell_type": "markdown",
      "source": [
        "# Linear Programming Assignment"
      ],
      "metadata": {
        "id": "31GxmqsFEuzW"
      }
    },
    {
      "cell_type": "markdown",
      "source": [
        "## Redo a WeBWorK Question Using Python"
      ],
      "metadata": {
        "id": "xWsxg3k-EzBs"
      }
    },
    {
      "cell_type": "markdown",
      "source": [
        "Consider WW Set 03 Problem 3.  Using python, do the following:\n",
        "1. Copy your problem here.\n",
        "1. Find corner points.  \n",
        "2. Graph feasible set.\n",
        "3. Find the corner that maximizes the objective function $P = 3x+2y$.\n",
        "4. Introduce slack variables, find the corner points again."
      ],
      "metadata": {
        "id": "eLQofNfAGgoS"
      }
    },
    {
      "cell_type": "markdown",
      "source": [
        "#Constraints"
      ],
      "metadata": {
        "id": "dviSgC3fzW_0"
      }
    },
    {
      "cell_type": "markdown",
      "source": [
        "\n",
        "1.   $x+y>=5$\n",
        "2.   $8x+y>=9$\n",
        "\n"
      ],
      "metadata": {
        "id": "NcR2LVT7zK6T"
      }
    },
    {
      "cell_type": "code",
      "source": [
        "import numpy as np\n",
        "\n",
        "A = np.array([[1,1],[8,1]])\n",
        "b = np.array([5,9])\n",
        "\n",
        "np.linalg.solve(A,b)"
      ],
      "metadata": {
        "id": "clclkFMZubQd",
        "outputId": "36dcb5e7-a1a1-4c53-939a-10c870d35e06",
        "colab": {
          "base_uri": "https://localhost:8080/"
        }
      },
      "execution_count": 31,
      "outputs": [
        {
          "output_type": "execute_result",
          "data": {
            "text/plain": [
              "array([0.57142857, 4.42857143])"
            ]
          },
          "metadata": {},
          "execution_count": 31
        }
      ]
    },
    {
      "cell_type": "code",
      "source": [
        "from scipy.optimize import linprog\n",
        "\n",
        "linprog([-3,-2],A[:,[0,1]],b)"
      ],
      "metadata": {
        "id": "T4-5XnxYr3Yu",
        "outputId": "07d1ad59-7b70-41a0-e397-61a56a2082b6",
        "colab": {
          "base_uri": "https://localhost:8080/"
        }
      },
      "execution_count": 32,
      "outputs": [
        {
          "output_type": "execute_result",
          "data": {
            "text/plain": [
              "        message: Optimization terminated successfully. (HiGHS Status 7: Optimal)\n",
              "        success: True\n",
              "         status: 0\n",
              "            fun: -10.571428571428571\n",
              "              x: [ 5.714e-01  4.429e+00]\n",
              "            nit: 2\n",
              "          lower:  residual: [ 5.714e-01  4.429e+00]\n",
              "                 marginals: [ 0.000e+00  0.000e+00]\n",
              "          upper:  residual: [       inf        inf]\n",
              "                 marginals: [ 0.000e+00  0.000e+00]\n",
              "          eqlin:  residual: []\n",
              "                 marginals: []\n",
              "        ineqlin:  residual: [ 0.000e+00  0.000e+00]\n",
              "                 marginals: [-1.857e+00 -1.429e-01]\n",
              " mip_node_count: 0\n",
              " mip_dual_bound: 0.0\n",
              "        mip_gap: 0.0"
            ]
          },
          "metadata": {},
          "execution_count": 32
        }
      ]
    },
    {
      "cell_type": "code",
      "source": [
        "from matplotlib.font_manager import X11FontDirectories\n",
        "import matplotlib.pyplot as plt\n",
        "x = np.arange(0,9,.1)\n",
        "\n",
        "y1 = (5-1*x)/1\n",
        "\n",
        "y2 = (9-8*x)/1\n",
        "\n",
        "plt.plot(x,y1, color = \"black\")\n",
        "plt.plot(x,y1, color = \"black\")\n",
        "plt.plot(x,y2, color = \"black\")\n",
        "\n",
        "\n",
        "plt.scatter(0,9, s = 100, color = \"black\")\n",
        "plt.scatter(.571,4.429, s = 100, color = \"blue\")\n",
        "plt.scatter(5,0, s = 100, color = \"yellow\")\n",
        "plt.xlim([0,6])\n",
        "plt.ylim([0,10])\n",
        "\n",
        "\n",
        "plt.show()"
      ],
      "metadata": {
        "id": "qX55ShjFr3NW",
        "outputId": "fe88b712-dfe9-4ed3-fccf-edf2201e2cab",
        "colab": {
          "base_uri": "https://localhost:8080/",
          "height": 435
        }
      },
      "execution_count": 60,
      "outputs": [
        {
          "output_type": "display_data",
          "data": {
            "text/plain": [
              "<Figure size 640x480 with 1 Axes>"
            ],
            "image/png": "[encoded data removed]"
          },
          "metadata": {}
        }
      ]
    },
    {
      "cell_type": "markdown",
      "source": [
        "## Redo a WeBWorK Question Using Python"
      ],
      "metadata": {
        "id": "OwGWpGToIx-L"
      }
    },
    {
      "cell_type": "markdown",
      "source": [
        "Consider WW Set 04 Problem 6.  Using python, do the following:\n",
        "1. Write the equations that describe the problem completely using $\\LaTeX$ encoding.   \n",
        "1. Find corner points.  \n",
        "2. Graph feasible set.\n",
        "3. Find the corner that maximizes the objective function.\n",
        "4. Introduce slack variables, find the corner points again."
      ],
      "metadata": {
        "id": "H7uUoaW6Ix-O"
      }
    },
    {
      "cell_type": "markdown",
      "source": [
        "A company manufactures two models of snowboards, standard and deluxe. Each deluxe model requires 20 hours to produce, and 90 units of material. Each standard model requires 10 hours to produce and 75 units of material. The company has 750 production hours available and 4245 units of material in stock. The deluxe model sells for $304 and the standard model sells for $190.\n",
        "\n",
        "What amount of each model should be produced and sold to obtain the maximum revenue?"
      ],
      "metadata": {
        "id": "iksMbVhf_cWp"
      }
    },
    {
      "cell_type": "markdown",
      "source": [
        "#Objective function\n",
        "$P= 304x + 190y$\n",
        "#Constraints:\n",
        "1. $10x + 20y >= 750 $\n",
        "\n",
        "2. $75x + 90y >= 4245$\n",
        "\n"
      ],
      "metadata": {
        "id": "p_ivECqc_e4L"
      }
    },
    {
      "cell_type": "code",
      "source": [
        "import numpy as np\n",
        "\n",
        "A = np.array([[10,20],[75,90]])\n",
        "b = np.array([750,4245])\n",
        "\n",
        "np.linalg.solve(A[0:2,:],b[0:2])"
      ],
      "metadata": {
        "id": "mKfm4CHVIx-Q",
        "outputId": "b3e1e09b-91bb-42a4-dee1-040efc7868c9",
        "colab": {
          "base_uri": "https://localhost:8080/"
        }
      },
      "execution_count": 73,
      "outputs": [
        {
          "output_type": "execute_result",
          "data": {
            "text/plain": [
              "array([29., 23.])"
            ]
          },
          "metadata": {},
          "execution_count": 73
        }
      ]
    },
    {
      "cell_type": "code",
      "execution_count": 70,
      "metadata": {
        "id": "w8ip_AnaIx-R",
        "outputId": "bd314462-d232-4263-f263-fe7615744230",
        "colab": {
          "base_uri": "https://localhost:8080/"
        }
      },
      "outputs": [
        {
          "output_type": "execute_result",
          "data": {
            "text/plain": [
              "        message: Optimization terminated successfully. (HiGHS Status 7: Optimal)\n",
              "        success: True\n",
              "         status: 0\n",
              "            fun: -17206.4\n",
              "              x: [ 5.660e+01  0.000e+00]\n",
              "            nit: 1\n",
              "          lower:  residual: [ 5.660e+01  0.000e+00]\n",
              "                 marginals: [ 0.000e+00  1.748e+02]\n",
              "          upper:  residual: [       inf        inf]\n",
              "                 marginals: [ 0.000e+00  0.000e+00]\n",
              "          eqlin:  residual: []\n",
              "                 marginals: []\n",
              "        ineqlin:  residual: [ 1.840e+02  0.000e+00]\n",
              "                 marginals: [-0.000e+00 -4.053e+00]\n",
              " mip_node_count: 0\n",
              " mip_dual_bound: 0.0\n",
              "        mip_gap: 0.0"
            ]
          },
          "metadata": {},
          "execution_count": 70
        }
      ],
      "source": [
        "from scipy.optimize import linprog\n",
        "\n",
        "linprog([-304,-190],A[:,[0,1]],b)"
      ]
    },
    {
      "cell_type": "code",
      "source": [
        "x = np.arange(0,90,.1)\n",
        "\n",
        "y1 = (750-10*x)/20\n",
        "\n",
        "y2 = (4245-75*x)/90\n",
        "\n",
        "plt.plot(x,y1, color = \"black\")\n",
        "plt.plot(x,y2, color = \"black\")\n",
        "\n",
        "\n",
        "plt.scatter(0,47, s = 100, color = \"red\")\n",
        "plt.scatter(29,23, s = 100, color = \"blue\")#Maximizes the feasible set\n",
        "plt.scatter(75,0, s = 100, color = \"green\")\n",
        "plt.xlim([0,80])\n",
        "plt.ylim([0,50])\n",
        "\n",
        "\n",
        "plt.show()"
      ],
      "metadata": {
        "id": "w_OGX0lgB-vs",
        "outputId": "c36bd073-3231-4508-bed7-547b7ce3d71b",
        "colab": {
          "base_uri": "https://localhost:8080/",
          "height": 435
        }
      },
      "execution_count": 67,
      "outputs": [
        {
          "output_type": "display_data",
          "data": {
            "text/plain": [
              "<Figure size 640x480 with 1 Axes>"
            ],
            "image/png": "[encoded data removed]"
          },
          "metadata": {}
        }
      ]
    }
  ]
}